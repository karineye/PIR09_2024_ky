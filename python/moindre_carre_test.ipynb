{
 "cells": [
  {
   "cell_type": "code",
   "execution_count": 18,
   "id": "7851b5d7-bc75-4b35-ba5d-637fce20e472",
   "metadata": {},
   "outputs": [
    {
     "name": "stdout",
     "output_type": "stream",
     "text": [
      "Constant :\n",
      " [[0.82709501]\n",
      " [1.01072311]\n",
      " [1.09444331]]\n",
      "Résidu :\n",
      " [[-0.00082496]\n",
      " [ 0.00399062]\n",
      " [ 0.0096541 ]\n",
      " ...\n",
      " [-0.0483987 ]\n",
      " [-0.04642769]\n",
      " [-0.04749421]]\n",
      "sigma2 :\n",
      " [[6.68803072e-05]]\n"
     ]
    }
   ],
   "source": [
    "import numpy as np\n",
    "from math import sqrt\n",
    "import matplotlib.pyplot as plt\n",
    "import csv\n",
    "\n",
    "# Open and read a CSV file\n",
    "with open('xyz_ECOSTRESS.csv', mode='r') as file:\n",
    "    reader = csv.reader(file)\n",
    "    \n",
    "    # Ignorer la première ligne (en-tête)\n",
    "    next(reader)\n",
    "    XYZ = np.array([[float(value) for value in row[1:]]  for row in reader])\n",
    "    \n",
    "#On récupère les colonnes X,Y,Z\n",
    "X = XYZ[:, 0]\n",
    "X_ = X.reshape(653, 1)\n",
    "   \n",
    "Y = XYZ[:, 1]\n",
    "Y_ = Y.reshape(653, 1)\n",
    "    \n",
    "Z = XYZ[:, 2]\n",
    "Z_ = Z.reshape(653, 1)\n",
    "\n",
    "#On compile les 3 matrices\n",
    "XYZ_ = np.vstack((X_, Y_, Z_))\n",
    "    \n",
    "    \n",
    "with open('rho_ECOSTRESS_S2A.csv', mode='r') as file:\n",
    "    csv_reader = csv.reader(file)\n",
    "    \n",
    "    # Ignorer la première ligne (en-tête)\n",
    "    next(csv_reader)\n",
    "    \n",
    "    # Ignorer la première colonne (en-tête)\n",
    "    A_origin = np.array([[float(value) for value in row[1:]]  for row in csv_reader])\n",
    "    \n",
    "A_origin = A_origin[:,::-1]\n",
    "A_x = A_origin.copy()\n",
    "A_y = A_origin.copy()\n",
    "A_z = A_origin.copy()\n",
    "\n",
    "T = np.array([[0.371, 0.362,0.268 ],[0.174,0.587, 0.240],[-0.043,-0.427, 1.463]]).T\n",
    "\n",
    "\n",
    "\n",
    "A_x[:, 0] *= T[0][0]  # Multiplier la colonne 1 par T[0][0] \n",
    "A_x[:, 1] *= T[1][0]   # Multiplier la colonne 2 par T[1][0] \n",
    "A_x[:, 2] *= T[2][0]   # Multiplier la colonne 3 par T[2][0] \n",
    "\n",
    "# print('T[:][0]',T[0][0],T[1][0],T[2][0])\n",
    "\n",
    "A_y[:, 0] *= T[0][1]  \n",
    "A_y[:, 1] *= T[1][1]  \n",
    "A_y[:, 2] *= T[2][1] \n",
    "\n",
    "A_z[:, 0] *= T[0][2]  \n",
    "A_z[:, 1] *= T[1][2]  \n",
    "A_z[:, 2] *= T[2][2] \n",
    "\n",
    "#On compile les 3 matrices\n",
    "A = np.vstack((A_x, A_y, A_z))\n",
    "\n",
    "# print(A_x[0])\n",
    "# print(A_origin[0]* T[0])\n",
    "\n",
    "# print(A_origin[0:2,:])\n",
    "\n",
    "P = np.eye(len(A))\n",
    "\n",
    "\n",
    "\n",
    "def moindre_carre(B,A,P):\n",
    "    N = (A.T)@P@A\n",
    "    K = (A.T)@P@B\n",
    "    X = np.linalg.inv(N)@K\n",
    "    V = B - A @ X\n",
    "    n = len(A)\n",
    "    p = len(A[0])\n",
    "    sigma_2 = V.T@P@V/(n-p)\n",
    "    Q = (sigma_2)*(np.linalg.inv(A.T@P@A))\n",
    "    return X, Q, sigma_2, V\n",
    "\n",
    "def ecart_type(l):\n",
    "    EcartT = 0\n",
    "    n = len(l)\n",
    "    moy = sum(l)/n\n",
    "    for i in range(n):\n",
    "         EcartT += (l[i] - moy)**2\n",
    "    return sqrt(EcartT/(n-1))\n",
    "\n",
    "\n",
    "\n",
    "X_sortie, Q, sigma_2, V = moindre_carre(XYZ_,A, P)\n",
    "print('Constant :\\n', X_sortie)\n",
    "print('Résidu :\\n', V)\n",
    "print('sigma2 :\\n', sigma_2)\n",
    "\n",
    "#plt.scatter(A,Y, c = 'black', s = 5)\n",
    "# y = X[0]*A_1 + X[1]\n",
    "# plt.plot(A_1,y, c = 'red')\n",
    "# plt.title(\"Régression linéaire DR1\")\n",
    "# plt.xlabel(\"Valeurs t\")\n",
    "# plt.ylabel(\"Valeurs de y\")\n",
    "# plt.text(-150,20, 'f\"a = {X[0]}, b = {X[1]}')\n",
    "# plt.show()"
   ]
  },
  {
   "cell_type": "code",
   "execution_count": 19,
   "id": "f4b22ab1-efec-418c-b197-3ece64908015",
   "metadata": {},
   "outputs": [],
   "source": [
    "# test\n",
    "# D65 = np.array([[2.57511992],\n",
    "#  [0.47153185],\n",
    "#  [0.09773047]])\n",
    "D65 = X_sortie.copy()\n",
    "A_origin[:0] *=D65[0]\n",
    "A_origin[:1] *=D65[1]\n",
    "A_origin[:2] *=D65[2]\n",
    "XYZ_cal = A_origin@T"
   ]
  },
  {
   "cell_type": "code",
   "execution_count": 20,
   "id": "efaf210d-d5c2-4492-86d0-c72a62a50c2f",
   "metadata": {},
   "outputs": [
    {
     "name": "stdout",
     "output_type": "stream",
     "text": [
      "RMSE: 0.013985283788265489\n"
     ]
    }
   ],
   "source": [
    "#erreur MSE\n",
    "\n",
    "# Calcul de l'erreur quadratique moyenne (MSE)\n",
    "mse_X = np.mean((XYZ- XYZ_cal)**2)\n",
    "\n",
    "\n",
    "# Racine carrée de l'erreur quadratique moyenne (RMSE)\n",
    "rmse_X = np.sqrt(mse_X)\n",
    "\n",
    "\n",
    "print(f\"RMSE: {rmse_X}\")"
   ]
  },
  {
   "cell_type": "code",
   "execution_count": 21,
   "id": "1631f6e4-f61b-48a8-8c3f-fd8caa8e68fe",
   "metadata": {},
   "outputs": [
    {
     "name": "stdout",
     "output_type": "stream",
     "text": [
      "R^2: 0.979187779250371\n"
     ]
    }
   ],
   "source": [
    "#erreur R^2\n",
    "\n",
    "from sklearn.metrics import r2_score\n",
    "r_squared = r2_score(XYZ, XYZ_cal)\n",
    "\n",
    "\n",
    "\n",
    "print(f\"R^2: {r_squared}\")"
   ]
  },
  {
   "cell_type": "code",
   "execution_count": null,
   "id": "88e0d57e-b2f8-4325-b133-e723cc6b4024",
   "metadata": {},
   "outputs": [],
   "source": []
  },
  {
   "cell_type": "code",
   "execution_count": null,
   "id": "be249bb9-9b5f-47f2-aec3-28d686698338",
   "metadata": {},
   "outputs": [],
   "source": []
  },
  {
   "cell_type": "code",
   "execution_count": null,
   "id": "0283297f-395a-4081-9263-b4e5c5ec8bd0",
   "metadata": {},
   "outputs": [],
   "source": []
  },
  {
   "cell_type": "code",
   "execution_count": null,
   "id": "731bab66-f050-4133-a137-41e7e498e784",
   "metadata": {},
   "outputs": [],
   "source": []
  },
  {
   "cell_type": "code",
   "execution_count": null,
   "id": "75c20368-3fab-4965-817c-7991a76244ca",
   "metadata": {},
   "outputs": [],
   "source": []
  }
 ],
 "metadata": {
  "celltoolbar": "Pièces jointes",
  "kernelspec": {
   "display_name": "Python 3 (ipykernel)",
   "language": "python",
   "name": "python3"
  },
  "language_info": {
   "codemirror_mode": {
    "name": "ipython",
    "version": 3
   },
   "file_extension": ".py",
   "mimetype": "text/x-python",
   "name": "python",
   "nbconvert_exporter": "python",
   "pygments_lexer": "ipython3",
   "version": "3.9.13"
  }
 },
 "nbformat": 4,
 "nbformat_minor": 5
}
