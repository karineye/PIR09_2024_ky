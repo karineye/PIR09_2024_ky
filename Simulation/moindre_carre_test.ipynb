{
 "cells": [
  {
   "cell_type": "code",
   "execution_count": 29,
   "id": "7851b5d7-bc75-4b35-ba5d-637fce20e472",
   "metadata": {},
   "outputs": [
    {
     "name": "stdout",
     "output_type": "stream",
     "text": [
      "Constant :\n",
      " [[2.57511992]\n",
      " [0.47153185]\n",
      " [0.09773047]]\n",
      "Résidu :\n",
      " [[0.02697357]\n",
      " [0.04059487]\n",
      " [0.06664684]\n",
      " ...\n",
      " [0.14490365]\n",
      " [0.14344076]\n",
      " [0.1441791 ]]\n",
      "sigma2 :\n",
      " [[0.00044642]]\n"
     ]
    }
   ],
   "source": [
    "import numpy as np\n",
    "from math import sqrt\n",
    "import matplotlib.pyplot as plt\n",
    "import csv\n",
    "\n",
    "# Open and read a CSV file\n",
    "with open('xyz_ECOSTRESS.csv', mode='r') as file:\n",
    "    reader = csv.reader(file)\n",
    "    \n",
    "    # Ignorer la première ligne (en-tête)\n",
    "    next(reader)\n",
    "    XYZ = np.array([[float(value) for value in row[1:]]  for row in reader])\n",
    "    \n",
    "#On récupère les colonnes X,Y,Z\n",
    "X = XYZ[:, 0]\n",
    "X_ = X.reshape(653, 1)\n",
    "   \n",
    "Y = XYZ[:, 1]\n",
    "Y_ = Y.reshape(653, 1)\n",
    "    \n",
    "Z = XYZ[:, 2]\n",
    "Z_ = Z.reshape(653, 1)\n",
    "\n",
    "#On compile les 3 matrices\n",
    "XYZ_ = np.vstack((X_, Y_, Z_))\n",
    "    \n",
    "    \n",
    "with open('rho_ECOSTRESS_S2A.csv', mode='r') as file:\n",
    "    csv_reader = csv.reader(file)\n",
    "    \n",
    "    # Ignorer la première ligne (en-tête)\n",
    "    next(csv_reader)\n",
    "    \n",
    "    # Ignorer la première colonne (en-tête)\n",
    "    A_x = np.array([[float(value) for value in row[1:]]  for row in csv_reader])\n",
    "A_y = A_x.copy()\n",
    "A_z = A_x.copy()\n",
    "\n",
    "T = np.array([[0.371, 0.362,0.268 ],[0.174,0.587, 0.240],[-0.043,-0.427, 1.463]]).T\n",
    "T_X = np.array([[0.371],[0.174],[-0.043]])\n",
    "T_Y = np.array([[0.362],[0.587],[-0.427]])\n",
    "T_Z = np.array([[0.268],[0.240],[1.463]])\n",
    "\n",
    "\n",
    "\n",
    "A_x[:, 0] *= T_X[0][0]  # Multiplier la colonne 1 par T_X[0][0] \n",
    "A_x[:, 1] *= T_X[1][0]   # Multiplier la colonne 2 par T_X[1][0] \n",
    "A_x[:, 2] *= T_X[2][0]   # Multiplier la colonne 3 par T_X[2][0] \n",
    "\n",
    "A_y[:, 0] *= T_Y[0][0]  \n",
    "A_y[:, 1] *= T_Y[1][0]  \n",
    "A_y[:, 2] *= T_Y[2][0] \n",
    "\n",
    "A_z[:, 0] *= T_Z[0][0]  \n",
    "A_z[:, 1] *= T_Z[1][0]  \n",
    "A_z[:, 2] *= T_Z[2][0] \n",
    "\n",
    "#On compile les 3 matrices\n",
    "A = np.vstack((A_x, A_y, A_z))\n",
    "\n",
    "\n",
    "P = np.eye(len(A))\n",
    "\n",
    "\n",
    "\n",
    "def moindre_carre(B,A,P):\n",
    "    N = (A.T)@P@A\n",
    "    K = (A.T)@P@B\n",
    "    X = np.linalg.inv(N)@K\n",
    "    V = B - A @ X\n",
    "    n = len(A)\n",
    "    p = len(A[0])\n",
    "    sigma_2 = V.T@P@V/(n-p)\n",
    "    Q = (sigma_2)*(np.linalg.inv(A.T@P@A))\n",
    "    return X, Q, sigma_2, V\n",
    "\n",
    "def ecart_type(l):\n",
    "    EcartT = 0\n",
    "    n = len(l)\n",
    "    moy = sum(l)/n\n",
    "    for i in range(n):\n",
    "         EcartT += (l[i] - moy)**2\n",
    "    return sqrt(EcartT/(n-1))\n",
    "\n",
    "\n",
    "\n",
    "\n",
    "\n",
    "X_sortie, Q, sigma_2, V = moindre_carre(XYZ_,A, P)\n",
    "print('Constant :\\n', X_sortie)\n",
    "print('Résidu :\\n', V)\n",
    "print('sigma2 :\\n', sigma_2)\n",
    "\n",
    "#plt.scatter(A,Y, c = 'black', s = 5)\n",
    "# y = X[0]*A_1 + X[1]\n",
    "# plt.plot(A_1,y, c = 'red')\n",
    "# plt.title(\"Régression linéaire DR1\")\n",
    "# plt.xlabel(\"Valeurs t\")\n",
    "# plt.ylabel(\"Valeurs de y\")\n",
    "# plt.text(-150,20, 'f\"a = {X[0]}, b = {X[1]}')\n",
    "# plt.show()"
   ]
  },
  {
   "cell_type": "code",
   "execution_count": 19,
   "id": "f4b22ab1-efec-418c-b197-3ece64908015",
   "metadata": {},
   "outputs": [
    {
     "data": {
      "text/plain": [
       "array([[ 0.07666581,  0.15377442, -0.12856703],\n",
       "       [ 0.04035651,  0.08489842, -0.09521462],\n",
       "       [ 0.01574762,  0.04797217, -0.08593022],\n",
       "       ...,\n",
       "       [ 0.35369865,  0.57006422, -0.40133804],\n",
       "       [ 0.35899145,  0.58088571, -0.41738929],\n",
       "       [ 0.35646674,  0.57570674, -0.40937142]])"
      ]
     },
     "execution_count": 19,
     "metadata": {},
     "output_type": "execute_result"
    }
   ],
   "source": []
  },
  {
   "cell_type": "code",
   "execution_count": null,
   "id": "efaf210d-d5c2-4492-86d0-c72a62a50c2f",
   "metadata": {},
   "outputs": [],
   "source": [
    "print(A)"
   ]
  },
  {
   "cell_type": "code",
   "execution_count": null,
   "id": "1631f6e4-f61b-48a8-8c3f-fd8caa8e68fe",
   "metadata": {},
   "outputs": [],
   "source": [
    "np.shape(A.T)\n"
   ]
  },
  {
   "cell_type": "code",
   "execution_count": 22,
   "id": "88e0d57e-b2f8-4325-b133-e723cc6b4024",
   "metadata": {},
   "outputs": [
    {
     "name": "stdout",
     "output_type": "stream",
     "text": [
      "(1959, 3)\n"
     ]
    }
   ],
   "source": [
    "A = np.vstack((A_x, A_y, A_z))\n",
    "print(np.shape(A))"
   ]
  },
  {
   "cell_type": "code",
   "execution_count": null,
   "id": "be249bb9-9b5f-47f2-aec3-28d686698338",
   "metadata": {},
   "outputs": [],
   "source": [
    "A.T@X_"
   ]
  },
  {
   "cell_type": "code",
   "execution_count": null,
   "id": "0283297f-395a-4081-9263-b4e5c5ec8bd0",
   "metadata": {},
   "outputs": [],
   "source": []
  },
  {
   "cell_type": "code",
   "execution_count": null,
   "id": "731bab66-f050-4133-a137-41e7e498e784",
   "metadata": {},
   "outputs": [],
   "source": []
  },
  {
   "cell_type": "code",
   "execution_count": null,
   "id": "75c20368-3fab-4965-817c-7991a76244ca",
   "metadata": {},
   "outputs": [],
   "source": []
  }
 ],
 "metadata": {
  "kernelspec": {
   "display_name": "Python 3 (ipykernel)",
   "language": "python",
   "name": "python3"
  },
  "language_info": {
   "codemirror_mode": {
    "name": "ipython",
    "version": 3
   },
   "file_extension": ".py",
   "mimetype": "text/x-python",
   "name": "python",
   "nbconvert_exporter": "python",
   "pygments_lexer": "ipython3",
   "version": "3.9.13"
  }
 },
 "nbformat": 4,
 "nbformat_minor": 5
}
